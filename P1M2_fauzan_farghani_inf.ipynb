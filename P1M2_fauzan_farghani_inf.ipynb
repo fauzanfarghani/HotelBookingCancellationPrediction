{
 "cells": [
  {
   "cell_type": "markdown",
   "id": "intro",
   "metadata": {},
   "source": [
    "# Model Inference\n",
    "\n",
    "Nama: Fauzan Rahmat Farghani\n",
    "\n",
    "Batch: HCK-028\n",
    "\n",
    "Objective: Notebook ini digunakan untuk menguji prediksi pembatalan pesanan hotel menggunakan model Random Forest yang telah dituning."
   ]
  },
  {
   "cell_type": "markdown",
   "id": "import-libs",
   "metadata": {},
   "source": [
    "# Import Libraries"
   ]
  },
  {
   "cell_type": "code",
   "execution_count": 9,
   "id": "libs",
   "metadata": {},
   "outputs": [],
   "source": [
    "import pandas as pd\n",
    "import numpy as np\n",
    "import joblib\n",
    "from sklearn.preprocessing import LabelEncoder\n",
    "import warnings\n",
    "warnings.filterwarnings('ignore')"
   ]
  },
  {
   "cell_type": "markdown",
   "id": "load-model",
   "metadata": {},
   "source": [
    "# Model Loading"
   ]
  },
  {
   "cell_type": "code",
   "execution_count": 10,
   "id": "load-model-code",
   "metadata": {},
   "outputs": [
    {
     "name": "stdout",
     "output_type": "stream",
     "text": [
      "Model loaded successfully.\n"
     ]
    }
   ],
   "source": [
    "# Load the saved Random Forest pipeline\n",
    "model = joblib.load('rf_tuned_pipeline.pkl')\n",
    "print('Model loaded successfully.')"
   ]
  },
  {
   "cell_type": "markdown",
   "id": "prepare-data",
   "metadata": {},
   "source": [
    "# Data Inference"
   ]
  },
  {
   "cell_type": "code",
   "execution_count": 11,
   "id": "inference-data",
   "metadata": {},
   "outputs": [
    {
     "name": "stdout",
     "output_type": "stream",
     "text": [
      "Inference Data:\n"
     ]
    },
    {
     "data": {
      "application/vnd.microsoft.datawrangler.viewer.v0+json": {
       "columns": [
        {
         "name": "index",
         "rawType": "int64",
         "type": "integer"
        },
        {
         "name": "no_of_adults",
         "rawType": "int64",
         "type": "integer"
        },
        {
         "name": "no_of_children",
         "rawType": "int64",
         "type": "integer"
        },
        {
         "name": "no_of_weekend_nights",
         "rawType": "int64",
         "type": "integer"
        },
        {
         "name": "no_of_week_nights",
         "rawType": "int64",
         "type": "integer"
        },
        {
         "name": "type_of_meal_plan",
         "rawType": "object",
         "type": "string"
        },
        {
         "name": "required_car_parking_space",
         "rawType": "int64",
         "type": "integer"
        },
        {
         "name": "room_type_reserved",
         "rawType": "object",
         "type": "string"
        },
        {
         "name": "lead_time",
         "rawType": "int64",
         "type": "integer"
        },
        {
         "name": "arrival_year",
         "rawType": "int64",
         "type": "integer"
        },
        {
         "name": "arrival_month",
         "rawType": "int64",
         "type": "integer"
        },
        {
         "name": "arrival_date",
         "rawType": "int64",
         "type": "integer"
        },
        {
         "name": "market_segment_type",
         "rawType": "object",
         "type": "string"
        },
        {
         "name": "repeated_guest",
         "rawType": "int64",
         "type": "integer"
        },
        {
         "name": "no_of_previous_cancellations",
         "rawType": "int64",
         "type": "integer"
        },
        {
         "name": "no_of_previous_bookings_not_canceled",
         "rawType": "int64",
         "type": "integer"
        },
        {
         "name": "avg_price_per_room",
         "rawType": "float64",
         "type": "float"
        },
        {
         "name": "no_of_special_requests",
         "rawType": "int64",
         "type": "integer"
        }
       ],
       "ref": "d9ed5ebd-3599-4ffb-8c50-de50fbf4c02f",
       "rows": [
        [
         "0",
         "2",
         "0",
         "1",
         "2",
         "Meal Plan 1",
         "0",
         "Room_Type 1",
         "30",
         "2018",
         "7",
         "15",
         "Online",
         "0",
         "0",
         "0",
         "100.0",
         "1"
        ],
        [
         "1",
         "1",
         "1",
         "0",
         "3",
         "Meal Plan 2",
         "1",
         "Room_Type 4",
         "90",
         "2017",
         "12",
         "25",
         "Offline",
         "1",
         "1",
         "2",
         "150.0",
         "0"
        ]
       ],
       "shape": {
        "columns": 17,
        "rows": 2
       }
      },
      "text/html": [
       "<div>\n",
       "<style scoped>\n",
       "    .dataframe tbody tr th:only-of-type {\n",
       "        vertical-align: middle;\n",
       "    }\n",
       "\n",
       "    .dataframe tbody tr th {\n",
       "        vertical-align: top;\n",
       "    }\n",
       "\n",
       "    .dataframe thead th {\n",
       "        text-align: right;\n",
       "    }\n",
       "</style>\n",
       "<table border=\"1\" class=\"dataframe\">\n",
       "  <thead>\n",
       "    <tr style=\"text-align: right;\">\n",
       "      <th></th>\n",
       "      <th>no_of_adults</th>\n",
       "      <th>no_of_children</th>\n",
       "      <th>no_of_weekend_nights</th>\n",
       "      <th>no_of_week_nights</th>\n",
       "      <th>type_of_meal_plan</th>\n",
       "      <th>required_car_parking_space</th>\n",
       "      <th>room_type_reserved</th>\n",
       "      <th>lead_time</th>\n",
       "      <th>arrival_year</th>\n",
       "      <th>arrival_month</th>\n",
       "      <th>arrival_date</th>\n",
       "      <th>market_segment_type</th>\n",
       "      <th>repeated_guest</th>\n",
       "      <th>no_of_previous_cancellations</th>\n",
       "      <th>no_of_previous_bookings_not_canceled</th>\n",
       "      <th>avg_price_per_room</th>\n",
       "      <th>no_of_special_requests</th>\n",
       "    </tr>\n",
       "  </thead>\n",
       "  <tbody>\n",
       "    <tr>\n",
       "      <th>0</th>\n",
       "      <td>2</td>\n",
       "      <td>0</td>\n",
       "      <td>1</td>\n",
       "      <td>2</td>\n",
       "      <td>Meal Plan 1</td>\n",
       "      <td>0</td>\n",
       "      <td>Room_Type 1</td>\n",
       "      <td>30</td>\n",
       "      <td>2018</td>\n",
       "      <td>7</td>\n",
       "      <td>15</td>\n",
       "      <td>Online</td>\n",
       "      <td>0</td>\n",
       "      <td>0</td>\n",
       "      <td>0</td>\n",
       "      <td>100.0</td>\n",
       "      <td>1</td>\n",
       "    </tr>\n",
       "    <tr>\n",
       "      <th>1</th>\n",
       "      <td>1</td>\n",
       "      <td>1</td>\n",
       "      <td>0</td>\n",
       "      <td>3</td>\n",
       "      <td>Meal Plan 2</td>\n",
       "      <td>1</td>\n",
       "      <td>Room_Type 4</td>\n",
       "      <td>90</td>\n",
       "      <td>2017</td>\n",
       "      <td>12</td>\n",
       "      <td>25</td>\n",
       "      <td>Offline</td>\n",
       "      <td>1</td>\n",
       "      <td>1</td>\n",
       "      <td>2</td>\n",
       "      <td>150.0</td>\n",
       "      <td>0</td>\n",
       "    </tr>\n",
       "  </tbody>\n",
       "</table>\n",
       "</div>"
      ],
      "text/plain": [
       "   no_of_adults  no_of_children  no_of_weekend_nights  no_of_week_nights  \\\n",
       "0             2               0                     1                  2   \n",
       "1             1               1                     0                  3   \n",
       "\n",
       "  type_of_meal_plan  required_car_parking_space room_type_reserved  lead_time  \\\n",
       "0       Meal Plan 1                           0        Room_Type 1         30   \n",
       "1       Meal Plan 2                           1        Room_Type 4         90   \n",
       "\n",
       "   arrival_year  arrival_month  arrival_date market_segment_type  \\\n",
       "0          2018              7            15              Online   \n",
       "1          2017             12            25             Offline   \n",
       "\n",
       "   repeated_guest  no_of_previous_cancellations  \\\n",
       "0               0                             0   \n",
       "1               1                             1   \n",
       "\n",
       "   no_of_previous_bookings_not_canceled  avg_price_per_room  \\\n",
       "0                                     0               100.0   \n",
       "1                                     2               150.0   \n",
       "\n",
       "   no_of_special_requests  \n",
       "0                       1  \n",
       "1                       0  "
      ]
     },
     "metadata": {},
     "output_type": "display_data"
    }
   ],
   "source": [
    "# Define the feature columns based on the training dataset\n",
    "feature_columns = [\n",
    "    'no_of_adults', 'no_of_children', 'no_of_weekend_nights', 'no_of_week_nights',\n",
    "    'type_of_meal_plan', 'required_car_parking_space', 'room_type_reserved',\n",
    "    'lead_time', 'arrival_year', 'arrival_month', 'arrival_date',\n",
    "    'market_segment_type', 'repeated_guest', 'no_of_previous_cancellations',\n",
    "    'no_of_previous_bookings_not_canceled', 'avg_price_per_room',\n",
    "    'no_of_special_requests'\n",
    "]\n",
    "\n",
    "# Create sample inference data (example)\n",
    "inference_data = pd.DataFrame([\n",
    "    {\n",
    "        'no_of_adults': 2,\n",
    "        'no_of_children': 0,\n",
    "        'no_of_weekend_nights': 1,\n",
    "        'no_of_week_nights': 2,\n",
    "        'type_of_meal_plan': 'Meal Plan 1',\n",
    "        'required_car_parking_space': 0,\n",
    "        'room_type_reserved': 'Room_Type 1',\n",
    "        'lead_time': 30,\n",
    "        'arrival_year': 2018,\n",
    "        'arrival_month': 7,\n",
    "        'arrival_date': 15,\n",
    "        'market_segment_type': 'Online',\n",
    "        'repeated_guest': 0,\n",
    "        'no_of_previous_cancellations': 0,\n",
    "        'no_of_previous_bookings_not_canceled': 0,\n",
    "        'avg_price_per_room': 100.0,\n",
    "        'no_of_special_requests': 1\n",
    "    },\n",
    "    {\n",
    "        'no_of_adults': 1,\n",
    "        'no_of_children': 1,\n",
    "        'no_of_weekend_nights': 0,\n",
    "        'no_of_week_nights': 3,\n",
    "        'type_of_meal_plan': 'Meal Plan 2',\n",
    "        'required_car_parking_space': 1,\n",
    "        'room_type_reserved': 'Room_Type 4',\n",
    "        'lead_time': 90,\n",
    "        'arrival_year': 2017,\n",
    "        'arrival_month': 12,\n",
    "        'arrival_date': 25,\n",
    "        'market_segment_type': 'Offline',\n",
    "        'repeated_guest': 1,\n",
    "        'no_of_previous_cancellations': 1,\n",
    "        'no_of_previous_bookings_not_canceled': 2,\n",
    "        'avg_price_per_room': 150.0,\n",
    "        'no_of_special_requests': 0\n",
    "    }\n",
    "])\n",
    "\n",
    "# Ensure all required columns are present\n",
    "inference_data = inference_data[feature_columns]\n",
    "\n",
    "# Display inference data\n",
    "print('Inference Data:')\n",
    "display(inference_data)"
   ]
  },
  {
   "cell_type": "markdown",
   "id": "make-predictions",
   "metadata": {},
   "source": [
    "# Predictions"
   ]
  },
  {
   "cell_type": "code",
   "execution_count": 12,
   "id": "predictions",
   "metadata": {},
   "outputs": [
    {
     "name": "stdout",
     "output_type": "stream",
     "text": [
      "Prediction Results:\n"
     ]
    },
    {
     "data": {
      "application/vnd.microsoft.datawrangler.viewer.v0+json": {
       "columns": [
        {
         "name": "index",
         "rawType": "int64",
         "type": "integer"
        },
        {
         "name": "Predicted_Booking_Status",
         "rawType": "object",
         "type": "string"
        }
       ],
       "ref": "c9fa1c90-d9b3-48f9-a6a0-068916913627",
       "rows": [
        [
         "0",
         "Not_Canceled"
        ],
        [
         "1",
         "Not_Canceled"
        ]
       ],
       "shape": {
        "columns": 1,
        "rows": 2
       }
      },
      "text/plain": [
       "0    Not_Canceled\n",
       "1    Not_Canceled\n",
       "Name: Predicted_Booking_Status, dtype: object"
      ]
     },
     "execution_count": 12,
     "metadata": {},
     "output_type": "execute_result"
    }
   ],
   "source": [
    "# Make predictions\n",
    "predictions = model.predict(inference_data)\n",
    "probabilities = model.predict_proba(inference_data)\n",
    "\n",
    "# Decode predictions (assuming LabelEncoder was used for 'booking_status')\n",
    "le = LabelEncoder()\n",
    "le.classes_ = np.array(['Not_Canceled', 'Canceled'])  # Based on training notebook\n",
    "decoded_predictions = le.inverse_transform(predictions)\n",
    "\n",
    "# Create results DataFrame\n",
    "results = inference_data.copy()\n",
    "results['Predicted_Booking_Status'] = decoded_predictions\n",
    "\n",
    "# Display results\n",
    "print('Prediction Results:')\n",
    "results['Predicted_Booking_Status']"
   ]
  },
  {
   "cell_type": "code",
   "execution_count": null,
   "id": "857e8591",
   "metadata": {},
   "outputs": [],
   "source": [
    "# # Create sample inference data (example)\n",
    "# inference_data = pd.DataFrame([\n",
    "#     {\n",
    "#         'no_of_adults': 1,\n",
    "#         'no_of_children': 0,\n",
    "#         'no_of_weekend_nights': 0,\n",
    "#         'no_of_week_nights': 2,\n",
    "#         'type_of_meal_plan': 'Meal Plan 1',\n",
    "#         'required_car_parking_space': 0,\n",
    "#         'room_type_reserved': 'Room_Type 1',\n",
    "#         'lead_time': 200,\n",
    "#         'arrival_year': 2018,\n",
    "#         'arrival_month': 7,\n",
    "#         'arrival_date': 15,\n",
    "#         'market_segment_type': 'Online',\n",
    "#         'repeated_guest': 0,\n",
    "#         'no_of_previous_cancellations': 0,\n",
    "#         'no_of_previous_bookings_not_canceled': 0,\n",
    "#         'avg_price_per_room': 100.0,\n",
    "#         'no_of_special_requests': 1\n",
    "#     }\n",
    "# ])"
   ]
  }
 ],
 "metadata": {
  "kernelspec": {
   "display_name": "base",
   "language": "python",
   "name": "python3"
  },
  "language_info": {
   "codemirror_mode": {
    "name": "ipython",
    "version": 3
   },
   "file_extension": ".py",
   "mimetype": "text/x-python",
   "name": "python",
   "nbconvert_exporter": "python",
   "pygments_lexer": "ipython3",
   "version": "3.12.7"
  }
 },
 "nbformat": 4,
 "nbformat_minor": 5
}
